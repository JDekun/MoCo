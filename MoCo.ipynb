{
  "cells": [
    {
      "cell_type": "markdown",
      "metadata": {
        "id": "ekfmWSl4UbbQ"
      },
      "source": [
        "[![Open In Colab](https://colab.research.google.com/assets/colab-badge.svg)](https://colab.research.google.com/github/JDekun/MoCo/blob/master/MoCo.ipynb?authuser=2) [![Open In Kaggle](https://kaggle.com/static/images/open-in-kaggle.svg)](https://www.kaggle.com/code/mydekun/MoCo) [![Open In Github](https://badgen.net/badge/icon/Open%20MoCo?icon=github&label)](https://github.com/JDekun/MoCo/blob/master/MoCo.ipynb)"
      ]
    },
    {
      "cell_type": "code",
      "execution_count": 1,
      "metadata": {
        "cellView": "form",
        "id": "Rqvvx2QlUbbb",
        "outputId": "7aa703f3-994f-402e-c8a9-2708090057a3",
        "colab": {
          "base_uri": "https://localhost:8080/"
        }
      },
      "outputs": [
        {
          "output_type": "stream",
          "name": "stdout",
          "text": [
            "Warning: Your Kaggle API key is readable by other users on this system! To fix this, you can run 'chmod 600 /content/Kaggle/kaggle.json'\n",
            "Downloading pascal-voc-2007-and-2012.zip to pascal-voc-2007-and-2012\n",
            " 99% 2.63G/2.64G [00:17<00:00, 178MB/s]\n",
            "100% 2.64G/2.64G [00:17<00:00, 163MB/s]\n"
          ]
        }
      ],
      "source": [
        "#@title [Colab] 构建Kaggle环境 && 下载数据集\n",
        "\n",
        "'''\n",
        "自动化代码，当值 colab 断路\n",
        "function ConnectButton(){\n",
        "    console.log(\"Connect pushed\"); \n",
        "    document.querySelector(\"#top-toolbar > colab-connect-button\").shadowRoot.querySelector(\"#connect\").click() \n",
        "}\n",
        "setInterval(ConnectButton,60000);\n",
        "'''\n",
        "# clearInterval()\n",
        "\n",
        "######### 数据集名字 #########\n",
        "datasets = [\"vijayabhaskar96/pascal-voc-2007-and-2012\"]  #@param {type:\"raw\"}\n",
        "import os\n",
        "\n",
        "# 构建 working input 文件夹和文件\n",
        "if not os.path.exists('/content/working'):\n",
        "  !mkdir /content/working\n",
        "if not os.path.exists('/content/input'):\n",
        "  !mkdir /content/input\n",
        "\n",
        "# 导入Kaggle API\n",
        "os.chdir('/content')\n",
        "!git clone https://github.com/JDekun/Kaggle.git > /dev/null 2>&1\n",
        "os.environ['KAGGLE_CONFIG_DIR'] = '/content/Kaggle' #注意kaggle文件夹包含json文件 \n",
        "\n",
        "# 下载数据集\n",
        "os.chdir('/content/input')\n",
        "len_mydekun = len(datasets)\n",
        "if len_mydekun != 0:\n",
        "  for i in range(len_mydekun):\n",
        "    # 下载 kaggle 数据集\n",
        "    temp = datasets[i]\n",
        "    name, dataset = temp.split('/')\n",
        "    dirlist = os.listdir('/content/input')\n",
        "\n",
        "    if (dataset in dirlist):\n",
        "      print(\"您已经下载过'%s'数据集\" % dataset)\n",
        "    else:\n",
        "      zip = dataset + '.zip'\n",
        "      !kaggle datasets download -d $temp -p $dataset\n",
        "      # 解压数据集并删除压缩包\n",
        "      !unzip $dataset/$zip -d $dataset > /dev/null 2>&1\n",
        "      !rm -f $dataset/$zip"
      ]
    },
    {
      "cell_type": "code",
      "execution_count": 2,
      "metadata": {
        "cellView": "form",
        "id": "2m4frpdEUbbe",
        "outputId": "7996a42b-233a-426e-9cdc-ec7d87b550fc",
        "colab": {
          "base_uri": "https://localhost:8080/"
        }
      },
      "outputs": [
        {
          "output_type": "stream",
          "name": "stdout",
          "text": [
            "Cloning into 'MoCo'...\n",
            "remote: Enumerating objects: 58, done.\u001b[K\n",
            "remote: Counting objects:   5% (1/20)\u001b[K\rremote: Counting objects:  10% (2/20)\u001b[K\rremote: Counting objects:  15% (3/20)\u001b[K\rremote: Counting objects:  20% (4/20)\u001b[K\rremote: Counting objects:  25% (5/20)\u001b[K\rremote: Counting objects:  30% (6/20)\u001b[K\rremote: Counting objects:  35% (7/20)\u001b[K\rremote: Counting objects:  40% (8/20)\u001b[K\rremote: Counting objects:  45% (9/20)\u001b[K\rremote: Counting objects:  50% (10/20)\u001b[K\rremote: Counting objects:  55% (11/20)\u001b[K\rremote: Counting objects:  60% (12/20)\u001b[K\rremote: Counting objects:  65% (13/20)\u001b[K\rremote: Counting objects:  70% (14/20)\u001b[K\rremote: Counting objects:  75% (15/20)\u001b[K\rremote: Counting objects:  80% (16/20)\u001b[K\rremote: Counting objects:  85% (17/20)\u001b[K\rremote: Counting objects:  90% (18/20)\u001b[K\rremote: Counting objects:  95% (19/20)\u001b[K\rremote: Counting objects: 100% (20/20)\u001b[K\rremote: Counting objects: 100% (20/20), done.\u001b[K\n",
            "remote: Compressing objects:   8% (1/12)\u001b[K\rremote: Compressing objects:  16% (2/12)\u001b[K\rremote: Compressing objects:  25% (3/12)\u001b[K\rremote: Compressing objects:  33% (4/12)\u001b[K\rremote: Compressing objects:  41% (5/12)\u001b[K\rremote: Compressing objects:  50% (6/12)\u001b[K\rremote: Compressing objects:  58% (7/12)\u001b[K\rremote: Compressing objects:  66% (8/12)\u001b[K\rremote: Compressing objects:  75% (9/12)\u001b[K\rremote: Compressing objects:  83% (10/12)\u001b[K\rremote: Compressing objects:  91% (11/12)\u001b[K\rremote: Compressing objects: 100% (12/12)\u001b[K\rremote: Compressing objects: 100% (12/12), done.\u001b[K\n",
            "remote: Total 58 (delta 9), reused 18 (delta 7), pack-reused 38\u001b[K\n",
            "Unpacking objects: 100% (58/58), done.\n"
          ]
        }
      ],
      "source": [
        "#@title [Kaggle] 克隆github项目\n",
        "import os\n",
        "######### GitHub库 #########\n",
        "github = \"https://github.com/JDekun/MoCo.git\"  #@param {type:\"string\"}\n",
        "## 工作路径\n",
        "working = github.rsplit('/',1)[-1].rsplit('.',1)[0]\n",
        "\n",
        "try:\n",
        "  os.chdir(\"/kaggle/working/\")\n",
        "except:\n",
        "  os.chdir(\"/content/working/\")\n",
        "\n",
        "!git clone $github   # 克隆 github 项目\n",
        "\n",
        "os.chdir(working)"
      ]
    },
    {
      "cell_type": "code",
      "execution_count": 3,
      "metadata": {
        "cellView": "form",
        "id": "ugjcNpCtUbbf"
      },
      "outputs": [],
      "source": [
        "#@title [TensorBoard] 在 Colab 中启动TensorBoard\n",
        "path = \"\"  #@param {type: \"string\"}\n",
        "len_tbp = len(path)\n",
        "if len_tbp != 0:\n",
        "  %reload_ext tensorboard\n",
        "  %tensorboard --logdir $path"
      ]
    },
    {
      "cell_type": "code",
      "source": [
        "os.chdir('./detection')"
      ],
      "metadata": {
        "id": "lB9jwGTyWC7n"
      },
      "execution_count": 4,
      "outputs": []
    },
    {
      "cell_type": "markdown",
      "source": [
        "1.Install detectron2."
      ],
      "metadata": {
        "id": "DWb8rnJkW3aM"
      }
    },
    {
      "cell_type": "code",
      "source": [
        "!python -m pip install pyyaml==5.1 > /dev/null\n",
        "# Detectron2 has not released pre-built binaries for the latest pytorch (https://github.com/facebookresearch/detectron2/issues/4053)\n",
        "# so we install from source instead. This takes a few minutes.\n",
        "!python -m pip install 'git+https://github.com/facebookresearch/detectron2.git' > /dev/null"
      ],
      "metadata": {
        "id": "Dn4pH9AGVCsB",
        "outputId": "9ea3c114-473b-4e02-ecdf-0f1f37c9c9b5",
        "colab": {
          "base_uri": "https://localhost:8080/"
        }
      },
      "execution_count": 5,
      "outputs": [
        {
          "output_type": "stream",
          "name": "stdout",
          "text": [
            "  Running command git clone -q https://github.com/facebookresearch/detectron2.git /tmp/pip-req-build-o83fycya\n",
            "\u001b[31mERROR: pip's dependency resolver does not currently take into account all the packages that are installed. This behaviour is the source of the following dependency conflicts.\n",
            "flask 1.1.4 requires click<8.0,>=5.1, but you have click 8.1.3 which is incompatible.\u001b[0m\n"
          ]
        }
      ]
    },
    {
      "cell_type": "markdown",
      "source": [
        "2.Convert a pre-trained MoCo model to detectron2's format:"
      ],
      "metadata": {
        "id": "N4hV8ZpcXWTx"
      }
    },
    {
      "cell_type": "code",
      "source": [
        "!wget https://dl.fbaipublicfiles.com/moco/moco_checkpoints/moco_v1_200ep/moco_v1_200ep_pretrain.pth.tar > /dev/null\n",
        "!python3 convert-pretrain-to-detectron2.py moco_v1_200ep_pretrain.pth.tar output.pkl"
      ],
      "metadata": {
        "id": "tIlUi-WzV0CJ",
        "outputId": "fe33d5a9-5921-41fc-eea4-df6115a7929c",
        "colab": {
          "base_uri": "https://localhost:8080/"
        }
      },
      "execution_count": 6,
      "outputs": [
        {
          "output_type": "stream",
          "name": "stdout",
          "text": [
            "--2022-08-10 11:17:32--  https://dl.fbaipublicfiles.com/moco/moco_checkpoints/moco_v1_200ep/moco_v1_200ep_pretrain.pth.tar\n",
            "Resolving dl.fbaipublicfiles.com (dl.fbaipublicfiles.com)... 104.22.74.142, 104.22.75.142, 172.67.9.4, ...\n",
            "Connecting to dl.fbaipublicfiles.com (dl.fbaipublicfiles.com)|104.22.74.142|:443... connected.\n",
            "HTTP request sent, awaiting response... 200 OK\n",
            "Length: 95347404 (91M) [application/octet-stream]\n",
            "Saving to: ‘moco_v1_200ep_pretrain.pth.tar’\n",
            "\n",
            "moco_v1_200ep_pretr 100%[===================>]  90.93M  23.1MB/s    in 7.4s    \n",
            "\n",
            "2022-08-10 11:17:40 (12.3 MB/s) - ‘moco_v1_200ep_pretrain.pth.tar’ saved [95347404/95347404]\n",
            "\n",
            "module.encoder_q.conv1.weight -> stem.conv1.weight\n",
            "module.encoder_q.bn1.weight -> stem.conv1.norm.weight\n",
            "module.encoder_q.bn1.bias -> stem.conv1.norm.bias\n",
            "module.encoder_q.bn1.running_mean -> stem.conv1.norm.running_mean\n",
            "module.encoder_q.bn1.running_var -> stem.conv1.norm.running_var\n",
            "module.encoder_q.bn1.num_batches_tracked -> stem.conv1.norm.num_batches_tracked\n",
            "module.encoder_q.layer1.0.conv1.weight -> res2.0.conv1.weight\n",
            "module.encoder_q.layer1.0.bn1.weight -> res2.0.conv1.norm.weight\n",
            "module.encoder_q.layer1.0.bn1.bias -> res2.0.conv1.norm.bias\n",
            "module.encoder_q.layer1.0.bn1.running_mean -> res2.0.conv1.norm.running_mean\n",
            "module.encoder_q.layer1.0.bn1.running_var -> res2.0.conv1.norm.running_var\n",
            "module.encoder_q.layer1.0.bn1.num_batches_tracked -> res2.0.conv1.norm.num_batches_tracked\n",
            "module.encoder_q.layer1.0.conv2.weight -> res2.0.conv2.weight\n",
            "module.encoder_q.layer1.0.bn2.weight -> res2.0.conv2.norm.weight\n",
            "module.encoder_q.layer1.0.bn2.bias -> res2.0.conv2.norm.bias\n",
            "module.encoder_q.layer1.0.bn2.running_mean -> res2.0.conv2.norm.running_mean\n",
            "module.encoder_q.layer1.0.bn2.running_var -> res2.0.conv2.norm.running_var\n",
            "module.encoder_q.layer1.0.bn2.num_batches_tracked -> res2.0.conv2.norm.num_batches_tracked\n",
            "module.encoder_q.layer1.0.conv3.weight -> res2.0.conv3.weight\n",
            "module.encoder_q.layer1.0.bn3.weight -> res2.0.conv3.norm.weight\n",
            "module.encoder_q.layer1.0.bn3.bias -> res2.0.conv3.norm.bias\n",
            "module.encoder_q.layer1.0.bn3.running_mean -> res2.0.conv3.norm.running_mean\n",
            "module.encoder_q.layer1.0.bn3.running_var -> res2.0.conv3.norm.running_var\n",
            "module.encoder_q.layer1.0.bn3.num_batches_tracked -> res2.0.conv3.norm.num_batches_tracked\n",
            "module.encoder_q.layer1.0.downsample.0.weight -> res2.0.shortcut.weight\n",
            "module.encoder_q.layer1.0.downsample.1.weight -> res2.0.shortcut.norm.weight\n",
            "module.encoder_q.layer1.0.downsample.1.bias -> res2.0.shortcut.norm.bias\n",
            "module.encoder_q.layer1.0.downsample.1.running_mean -> res2.0.shortcut.norm.running_mean\n",
            "module.encoder_q.layer1.0.downsample.1.running_var -> res2.0.shortcut.norm.running_var\n",
            "module.encoder_q.layer1.0.downsample.1.num_batches_tracked -> res2.0.shortcut.norm.num_batches_tracked\n",
            "module.encoder_q.layer1.1.conv1.weight -> res2.1.conv1.weight\n",
            "module.encoder_q.layer1.1.bn1.weight -> res2.1.conv1.norm.weight\n",
            "module.encoder_q.layer1.1.bn1.bias -> res2.1.conv1.norm.bias\n",
            "module.encoder_q.layer1.1.bn1.running_mean -> res2.1.conv1.norm.running_mean\n",
            "module.encoder_q.layer1.1.bn1.running_var -> res2.1.conv1.norm.running_var\n",
            "module.encoder_q.layer1.1.bn1.num_batches_tracked -> res2.1.conv1.norm.num_batches_tracked\n",
            "module.encoder_q.layer1.1.conv2.weight -> res2.1.conv2.weight\n",
            "module.encoder_q.layer1.1.bn2.weight -> res2.1.conv2.norm.weight\n",
            "module.encoder_q.layer1.1.bn2.bias -> res2.1.conv2.norm.bias\n",
            "module.encoder_q.layer1.1.bn2.running_mean -> res2.1.conv2.norm.running_mean\n",
            "module.encoder_q.layer1.1.bn2.running_var -> res2.1.conv2.norm.running_var\n",
            "module.encoder_q.layer1.1.bn2.num_batches_tracked -> res2.1.conv2.norm.num_batches_tracked\n",
            "module.encoder_q.layer1.1.conv3.weight -> res2.1.conv3.weight\n",
            "module.encoder_q.layer1.1.bn3.weight -> res2.1.conv3.norm.weight\n",
            "module.encoder_q.layer1.1.bn3.bias -> res2.1.conv3.norm.bias\n",
            "module.encoder_q.layer1.1.bn3.running_mean -> res2.1.conv3.norm.running_mean\n",
            "module.encoder_q.layer1.1.bn3.running_var -> res2.1.conv3.norm.running_var\n",
            "module.encoder_q.layer1.1.bn3.num_batches_tracked -> res2.1.conv3.norm.num_batches_tracked\n",
            "module.encoder_q.layer1.2.conv1.weight -> res2.2.conv1.weight\n",
            "module.encoder_q.layer1.2.bn1.weight -> res2.2.conv1.norm.weight\n",
            "module.encoder_q.layer1.2.bn1.bias -> res2.2.conv1.norm.bias\n",
            "module.encoder_q.layer1.2.bn1.running_mean -> res2.2.conv1.norm.running_mean\n",
            "module.encoder_q.layer1.2.bn1.running_var -> res2.2.conv1.norm.running_var\n",
            "module.encoder_q.layer1.2.bn1.num_batches_tracked -> res2.2.conv1.norm.num_batches_tracked\n",
            "module.encoder_q.layer1.2.conv2.weight -> res2.2.conv2.weight\n",
            "module.encoder_q.layer1.2.bn2.weight -> res2.2.conv2.norm.weight\n",
            "module.encoder_q.layer1.2.bn2.bias -> res2.2.conv2.norm.bias\n",
            "module.encoder_q.layer1.2.bn2.running_mean -> res2.2.conv2.norm.running_mean\n",
            "module.encoder_q.layer1.2.bn2.running_var -> res2.2.conv2.norm.running_var\n",
            "module.encoder_q.layer1.2.bn2.num_batches_tracked -> res2.2.conv2.norm.num_batches_tracked\n",
            "module.encoder_q.layer1.2.conv3.weight -> res2.2.conv3.weight\n",
            "module.encoder_q.layer1.2.bn3.weight -> res2.2.conv3.norm.weight\n",
            "module.encoder_q.layer1.2.bn3.bias -> res2.2.conv3.norm.bias\n",
            "module.encoder_q.layer1.2.bn3.running_mean -> res2.2.conv3.norm.running_mean\n",
            "module.encoder_q.layer1.2.bn3.running_var -> res2.2.conv3.norm.running_var\n",
            "module.encoder_q.layer1.2.bn3.num_batches_tracked -> res2.2.conv3.norm.num_batches_tracked\n",
            "module.encoder_q.layer2.0.conv1.weight -> res3.0.conv1.weight\n",
            "module.encoder_q.layer2.0.bn1.weight -> res3.0.conv1.norm.weight\n",
            "module.encoder_q.layer2.0.bn1.bias -> res3.0.conv1.norm.bias\n",
            "module.encoder_q.layer2.0.bn1.running_mean -> res3.0.conv1.norm.running_mean\n",
            "module.encoder_q.layer2.0.bn1.running_var -> res3.0.conv1.norm.running_var\n",
            "module.encoder_q.layer2.0.bn1.num_batches_tracked -> res3.0.conv1.norm.num_batches_tracked\n",
            "module.encoder_q.layer2.0.conv2.weight -> res3.0.conv2.weight\n",
            "module.encoder_q.layer2.0.bn2.weight -> res3.0.conv2.norm.weight\n",
            "module.encoder_q.layer2.0.bn2.bias -> res3.0.conv2.norm.bias\n",
            "module.encoder_q.layer2.0.bn2.running_mean -> res3.0.conv2.norm.running_mean\n",
            "module.encoder_q.layer2.0.bn2.running_var -> res3.0.conv2.norm.running_var\n",
            "module.encoder_q.layer2.0.bn2.num_batches_tracked -> res3.0.conv2.norm.num_batches_tracked\n",
            "module.encoder_q.layer2.0.conv3.weight -> res3.0.conv3.weight\n",
            "module.encoder_q.layer2.0.bn3.weight -> res3.0.conv3.norm.weight\n",
            "module.encoder_q.layer2.0.bn3.bias -> res3.0.conv3.norm.bias\n",
            "module.encoder_q.layer2.0.bn3.running_mean -> res3.0.conv3.norm.running_mean\n",
            "module.encoder_q.layer2.0.bn3.running_var -> res3.0.conv3.norm.running_var\n",
            "module.encoder_q.layer2.0.bn3.num_batches_tracked -> res3.0.conv3.norm.num_batches_tracked\n",
            "module.encoder_q.layer2.0.downsample.0.weight -> res3.0.shortcut.weight\n",
            "module.encoder_q.layer2.0.downsample.1.weight -> res3.0.shortcut.norm.weight\n",
            "module.encoder_q.layer2.0.downsample.1.bias -> res3.0.shortcut.norm.bias\n",
            "module.encoder_q.layer2.0.downsample.1.running_mean -> res3.0.shortcut.norm.running_mean\n",
            "module.encoder_q.layer2.0.downsample.1.running_var -> res3.0.shortcut.norm.running_var\n",
            "module.encoder_q.layer2.0.downsample.1.num_batches_tracked -> res3.0.shortcut.norm.num_batches_tracked\n",
            "module.encoder_q.layer2.1.conv1.weight -> res3.1.conv1.weight\n",
            "module.encoder_q.layer2.1.bn1.weight -> res3.1.conv1.norm.weight\n",
            "module.encoder_q.layer2.1.bn1.bias -> res3.1.conv1.norm.bias\n",
            "module.encoder_q.layer2.1.bn1.running_mean -> res3.1.conv1.norm.running_mean\n",
            "module.encoder_q.layer2.1.bn1.running_var -> res3.1.conv1.norm.running_var\n",
            "module.encoder_q.layer2.1.bn1.num_batches_tracked -> res3.1.conv1.norm.num_batches_tracked\n",
            "module.encoder_q.layer2.1.conv2.weight -> res3.1.conv2.weight\n",
            "module.encoder_q.layer2.1.bn2.weight -> res3.1.conv2.norm.weight\n",
            "module.encoder_q.layer2.1.bn2.bias -> res3.1.conv2.norm.bias\n",
            "module.encoder_q.layer2.1.bn2.running_mean -> res3.1.conv2.norm.running_mean\n",
            "module.encoder_q.layer2.1.bn2.running_var -> res3.1.conv2.norm.running_var\n",
            "module.encoder_q.layer2.1.bn2.num_batches_tracked -> res3.1.conv2.norm.num_batches_tracked\n",
            "module.encoder_q.layer2.1.conv3.weight -> res3.1.conv3.weight\n",
            "module.encoder_q.layer2.1.bn3.weight -> res3.1.conv3.norm.weight\n",
            "module.encoder_q.layer2.1.bn3.bias -> res3.1.conv3.norm.bias\n",
            "module.encoder_q.layer2.1.bn3.running_mean -> res3.1.conv3.norm.running_mean\n",
            "module.encoder_q.layer2.1.bn3.running_var -> res3.1.conv3.norm.running_var\n",
            "module.encoder_q.layer2.1.bn3.num_batches_tracked -> res3.1.conv3.norm.num_batches_tracked\n",
            "module.encoder_q.layer2.2.conv1.weight -> res3.2.conv1.weight\n",
            "module.encoder_q.layer2.2.bn1.weight -> res3.2.conv1.norm.weight\n",
            "module.encoder_q.layer2.2.bn1.bias -> res3.2.conv1.norm.bias\n",
            "module.encoder_q.layer2.2.bn1.running_mean -> res3.2.conv1.norm.running_mean\n",
            "module.encoder_q.layer2.2.bn1.running_var -> res3.2.conv1.norm.running_var\n",
            "module.encoder_q.layer2.2.bn1.num_batches_tracked -> res3.2.conv1.norm.num_batches_tracked\n",
            "module.encoder_q.layer2.2.conv2.weight -> res3.2.conv2.weight\n",
            "module.encoder_q.layer2.2.bn2.weight -> res3.2.conv2.norm.weight\n",
            "module.encoder_q.layer2.2.bn2.bias -> res3.2.conv2.norm.bias\n",
            "module.encoder_q.layer2.2.bn2.running_mean -> res3.2.conv2.norm.running_mean\n",
            "module.encoder_q.layer2.2.bn2.running_var -> res3.2.conv2.norm.running_var\n",
            "module.encoder_q.layer2.2.bn2.num_batches_tracked -> res3.2.conv2.norm.num_batches_tracked\n",
            "module.encoder_q.layer2.2.conv3.weight -> res3.2.conv3.weight\n",
            "module.encoder_q.layer2.2.bn3.weight -> res3.2.conv3.norm.weight\n",
            "module.encoder_q.layer2.2.bn3.bias -> res3.2.conv3.norm.bias\n",
            "module.encoder_q.layer2.2.bn3.running_mean -> res3.2.conv3.norm.running_mean\n",
            "module.encoder_q.layer2.2.bn3.running_var -> res3.2.conv3.norm.running_var\n",
            "module.encoder_q.layer2.2.bn3.num_batches_tracked -> res3.2.conv3.norm.num_batches_tracked\n",
            "module.encoder_q.layer2.3.conv1.weight -> res3.3.conv1.weight\n",
            "module.encoder_q.layer2.3.bn1.weight -> res3.3.conv1.norm.weight\n",
            "module.encoder_q.layer2.3.bn1.bias -> res3.3.conv1.norm.bias\n",
            "module.encoder_q.layer2.3.bn1.running_mean -> res3.3.conv1.norm.running_mean\n",
            "module.encoder_q.layer2.3.bn1.running_var -> res3.3.conv1.norm.running_var\n",
            "module.encoder_q.layer2.3.bn1.num_batches_tracked -> res3.3.conv1.norm.num_batches_tracked\n",
            "module.encoder_q.layer2.3.conv2.weight -> res3.3.conv2.weight\n",
            "module.encoder_q.layer2.3.bn2.weight -> res3.3.conv2.norm.weight\n",
            "module.encoder_q.layer2.3.bn2.bias -> res3.3.conv2.norm.bias\n",
            "module.encoder_q.layer2.3.bn2.running_mean -> res3.3.conv2.norm.running_mean\n",
            "module.encoder_q.layer2.3.bn2.running_var -> res3.3.conv2.norm.running_var\n",
            "module.encoder_q.layer2.3.bn2.num_batches_tracked -> res3.3.conv2.norm.num_batches_tracked\n",
            "module.encoder_q.layer2.3.conv3.weight -> res3.3.conv3.weight\n",
            "module.encoder_q.layer2.3.bn3.weight -> res3.3.conv3.norm.weight\n",
            "module.encoder_q.layer2.3.bn3.bias -> res3.3.conv3.norm.bias\n",
            "module.encoder_q.layer2.3.bn3.running_mean -> res3.3.conv3.norm.running_mean\n",
            "module.encoder_q.layer2.3.bn3.running_var -> res3.3.conv3.norm.running_var\n",
            "module.encoder_q.layer2.3.bn3.num_batches_tracked -> res3.3.conv3.norm.num_batches_tracked\n",
            "module.encoder_q.layer3.0.conv1.weight -> res4.0.conv1.weight\n",
            "module.encoder_q.layer3.0.bn1.weight -> res4.0.conv1.norm.weight\n",
            "module.encoder_q.layer3.0.bn1.bias -> res4.0.conv1.norm.bias\n",
            "module.encoder_q.layer3.0.bn1.running_mean -> res4.0.conv1.norm.running_mean\n",
            "module.encoder_q.layer3.0.bn1.running_var -> res4.0.conv1.norm.running_var\n",
            "module.encoder_q.layer3.0.bn1.num_batches_tracked -> res4.0.conv1.norm.num_batches_tracked\n",
            "module.encoder_q.layer3.0.conv2.weight -> res4.0.conv2.weight\n",
            "module.encoder_q.layer3.0.bn2.weight -> res4.0.conv2.norm.weight\n",
            "module.encoder_q.layer3.0.bn2.bias -> res4.0.conv2.norm.bias\n",
            "module.encoder_q.layer3.0.bn2.running_mean -> res4.0.conv2.norm.running_mean\n",
            "module.encoder_q.layer3.0.bn2.running_var -> res4.0.conv2.norm.running_var\n",
            "module.encoder_q.layer3.0.bn2.num_batches_tracked -> res4.0.conv2.norm.num_batches_tracked\n",
            "module.encoder_q.layer3.0.conv3.weight -> res4.0.conv3.weight\n",
            "module.encoder_q.layer3.0.bn3.weight -> res4.0.conv3.norm.weight\n",
            "module.encoder_q.layer3.0.bn3.bias -> res4.0.conv3.norm.bias\n",
            "module.encoder_q.layer3.0.bn3.running_mean -> res4.0.conv3.norm.running_mean\n",
            "module.encoder_q.layer3.0.bn3.running_var -> res4.0.conv3.norm.running_var\n",
            "module.encoder_q.layer3.0.bn3.num_batches_tracked -> res4.0.conv3.norm.num_batches_tracked\n",
            "module.encoder_q.layer3.0.downsample.0.weight -> res4.0.shortcut.weight\n",
            "module.encoder_q.layer3.0.downsample.1.weight -> res4.0.shortcut.norm.weight\n",
            "module.encoder_q.layer3.0.downsample.1.bias -> res4.0.shortcut.norm.bias\n",
            "module.encoder_q.layer3.0.downsample.1.running_mean -> res4.0.shortcut.norm.running_mean\n",
            "module.encoder_q.layer3.0.downsample.1.running_var -> res4.0.shortcut.norm.running_var\n",
            "module.encoder_q.layer3.0.downsample.1.num_batches_tracked -> res4.0.shortcut.norm.num_batches_tracked\n",
            "module.encoder_q.layer3.1.conv1.weight -> res4.1.conv1.weight\n",
            "module.encoder_q.layer3.1.bn1.weight -> res4.1.conv1.norm.weight\n",
            "module.encoder_q.layer3.1.bn1.bias -> res4.1.conv1.norm.bias\n",
            "module.encoder_q.layer3.1.bn1.running_mean -> res4.1.conv1.norm.running_mean\n",
            "module.encoder_q.layer3.1.bn1.running_var -> res4.1.conv1.norm.running_var\n",
            "module.encoder_q.layer3.1.bn1.num_batches_tracked -> res4.1.conv1.norm.num_batches_tracked\n",
            "module.encoder_q.layer3.1.conv2.weight -> res4.1.conv2.weight\n",
            "module.encoder_q.layer3.1.bn2.weight -> res4.1.conv2.norm.weight\n",
            "module.encoder_q.layer3.1.bn2.bias -> res4.1.conv2.norm.bias\n",
            "module.encoder_q.layer3.1.bn2.running_mean -> res4.1.conv2.norm.running_mean\n",
            "module.encoder_q.layer3.1.bn2.running_var -> res4.1.conv2.norm.running_var\n",
            "module.encoder_q.layer3.1.bn2.num_batches_tracked -> res4.1.conv2.norm.num_batches_tracked\n",
            "module.encoder_q.layer3.1.conv3.weight -> res4.1.conv3.weight\n",
            "module.encoder_q.layer3.1.bn3.weight -> res4.1.conv3.norm.weight\n",
            "module.encoder_q.layer3.1.bn3.bias -> res4.1.conv3.norm.bias\n",
            "module.encoder_q.layer3.1.bn3.running_mean -> res4.1.conv3.norm.running_mean\n",
            "module.encoder_q.layer3.1.bn3.running_var -> res4.1.conv3.norm.running_var\n",
            "module.encoder_q.layer3.1.bn3.num_batches_tracked -> res4.1.conv3.norm.num_batches_tracked\n",
            "module.encoder_q.layer3.2.conv1.weight -> res4.2.conv1.weight\n",
            "module.encoder_q.layer3.2.bn1.weight -> res4.2.conv1.norm.weight\n",
            "module.encoder_q.layer3.2.bn1.bias -> res4.2.conv1.norm.bias\n",
            "module.encoder_q.layer3.2.bn1.running_mean -> res4.2.conv1.norm.running_mean\n",
            "module.encoder_q.layer3.2.bn1.running_var -> res4.2.conv1.norm.running_var\n",
            "module.encoder_q.layer3.2.bn1.num_batches_tracked -> res4.2.conv1.norm.num_batches_tracked\n",
            "module.encoder_q.layer3.2.conv2.weight -> res4.2.conv2.weight\n",
            "module.encoder_q.layer3.2.bn2.weight -> res4.2.conv2.norm.weight\n",
            "module.encoder_q.layer3.2.bn2.bias -> res4.2.conv2.norm.bias\n",
            "module.encoder_q.layer3.2.bn2.running_mean -> res4.2.conv2.norm.running_mean\n",
            "module.encoder_q.layer3.2.bn2.running_var -> res4.2.conv2.norm.running_var\n",
            "module.encoder_q.layer3.2.bn2.num_batches_tracked -> res4.2.conv2.norm.num_batches_tracked\n",
            "module.encoder_q.layer3.2.conv3.weight -> res4.2.conv3.weight\n",
            "module.encoder_q.layer3.2.bn3.weight -> res4.2.conv3.norm.weight\n",
            "module.encoder_q.layer3.2.bn3.bias -> res4.2.conv3.norm.bias\n",
            "module.encoder_q.layer3.2.bn3.running_mean -> res4.2.conv3.norm.running_mean\n",
            "module.encoder_q.layer3.2.bn3.running_var -> res4.2.conv3.norm.running_var\n",
            "module.encoder_q.layer3.2.bn3.num_batches_tracked -> res4.2.conv3.norm.num_batches_tracked\n",
            "module.encoder_q.layer3.3.conv1.weight -> res4.3.conv1.weight\n",
            "module.encoder_q.layer3.3.bn1.weight -> res4.3.conv1.norm.weight\n",
            "module.encoder_q.layer3.3.bn1.bias -> res4.3.conv1.norm.bias\n",
            "module.encoder_q.layer3.3.bn1.running_mean -> res4.3.conv1.norm.running_mean\n",
            "module.encoder_q.layer3.3.bn1.running_var -> res4.3.conv1.norm.running_var\n",
            "module.encoder_q.layer3.3.bn1.num_batches_tracked -> res4.3.conv1.norm.num_batches_tracked\n",
            "module.encoder_q.layer3.3.conv2.weight -> res4.3.conv2.weight\n",
            "module.encoder_q.layer3.3.bn2.weight -> res4.3.conv2.norm.weight\n",
            "module.encoder_q.layer3.3.bn2.bias -> res4.3.conv2.norm.bias\n",
            "module.encoder_q.layer3.3.bn2.running_mean -> res4.3.conv2.norm.running_mean\n",
            "module.encoder_q.layer3.3.bn2.running_var -> res4.3.conv2.norm.running_var\n",
            "module.encoder_q.layer3.3.bn2.num_batches_tracked -> res4.3.conv2.norm.num_batches_tracked\n",
            "module.encoder_q.layer3.3.conv3.weight -> res4.3.conv3.weight\n",
            "module.encoder_q.layer3.3.bn3.weight -> res4.3.conv3.norm.weight\n",
            "module.encoder_q.layer3.3.bn3.bias -> res4.3.conv3.norm.bias\n",
            "module.encoder_q.layer3.3.bn3.running_mean -> res4.3.conv3.norm.running_mean\n",
            "module.encoder_q.layer3.3.bn3.running_var -> res4.3.conv3.norm.running_var\n",
            "module.encoder_q.layer3.3.bn3.num_batches_tracked -> res4.3.conv3.norm.num_batches_tracked\n",
            "module.encoder_q.layer3.4.conv1.weight -> res4.4.conv1.weight\n",
            "module.encoder_q.layer3.4.bn1.weight -> res4.4.conv1.norm.weight\n",
            "module.encoder_q.layer3.4.bn1.bias -> res4.4.conv1.norm.bias\n",
            "module.encoder_q.layer3.4.bn1.running_mean -> res4.4.conv1.norm.running_mean\n",
            "module.encoder_q.layer3.4.bn1.running_var -> res4.4.conv1.norm.running_var\n",
            "module.encoder_q.layer3.4.bn1.num_batches_tracked -> res4.4.conv1.norm.num_batches_tracked\n",
            "module.encoder_q.layer3.4.conv2.weight -> res4.4.conv2.weight\n",
            "module.encoder_q.layer3.4.bn2.weight -> res4.4.conv2.norm.weight\n",
            "module.encoder_q.layer3.4.bn2.bias -> res4.4.conv2.norm.bias\n",
            "module.encoder_q.layer3.4.bn2.running_mean -> res4.4.conv2.norm.running_mean\n",
            "module.encoder_q.layer3.4.bn2.running_var -> res4.4.conv2.norm.running_var\n",
            "module.encoder_q.layer3.4.bn2.num_batches_tracked -> res4.4.conv2.norm.num_batches_tracked\n",
            "module.encoder_q.layer3.4.conv3.weight -> res4.4.conv3.weight\n",
            "module.encoder_q.layer3.4.bn3.weight -> res4.4.conv3.norm.weight\n",
            "module.encoder_q.layer3.4.bn3.bias -> res4.4.conv3.norm.bias\n",
            "module.encoder_q.layer3.4.bn3.running_mean -> res4.4.conv3.norm.running_mean\n",
            "module.encoder_q.layer3.4.bn3.running_var -> res4.4.conv3.norm.running_var\n",
            "module.encoder_q.layer3.4.bn3.num_batches_tracked -> res4.4.conv3.norm.num_batches_tracked\n",
            "module.encoder_q.layer3.5.conv1.weight -> res4.5.conv1.weight\n",
            "module.encoder_q.layer3.5.bn1.weight -> res4.5.conv1.norm.weight\n",
            "module.encoder_q.layer3.5.bn1.bias -> res4.5.conv1.norm.bias\n",
            "module.encoder_q.layer3.5.bn1.running_mean -> res4.5.conv1.norm.running_mean\n",
            "module.encoder_q.layer3.5.bn1.running_var -> res4.5.conv1.norm.running_var\n",
            "module.encoder_q.layer3.5.bn1.num_batches_tracked -> res4.5.conv1.norm.num_batches_tracked\n",
            "module.encoder_q.layer3.5.conv2.weight -> res4.5.conv2.weight\n",
            "module.encoder_q.layer3.5.bn2.weight -> res4.5.conv2.norm.weight\n",
            "module.encoder_q.layer3.5.bn2.bias -> res4.5.conv2.norm.bias\n",
            "module.encoder_q.layer3.5.bn2.running_mean -> res4.5.conv2.norm.running_mean\n",
            "module.encoder_q.layer3.5.bn2.running_var -> res4.5.conv2.norm.running_var\n",
            "module.encoder_q.layer3.5.bn2.num_batches_tracked -> res4.5.conv2.norm.num_batches_tracked\n",
            "module.encoder_q.layer3.5.conv3.weight -> res4.5.conv3.weight\n",
            "module.encoder_q.layer3.5.bn3.weight -> res4.5.conv3.norm.weight\n",
            "module.encoder_q.layer3.5.bn3.bias -> res4.5.conv3.norm.bias\n",
            "module.encoder_q.layer3.5.bn3.running_mean -> res4.5.conv3.norm.running_mean\n",
            "module.encoder_q.layer3.5.bn3.running_var -> res4.5.conv3.norm.running_var\n",
            "module.encoder_q.layer3.5.bn3.num_batches_tracked -> res4.5.conv3.norm.num_batches_tracked\n",
            "module.encoder_q.layer4.0.conv1.weight -> res5.0.conv1.weight\n",
            "module.encoder_q.layer4.0.bn1.weight -> res5.0.conv1.norm.weight\n",
            "module.encoder_q.layer4.0.bn1.bias -> res5.0.conv1.norm.bias\n",
            "module.encoder_q.layer4.0.bn1.running_mean -> res5.0.conv1.norm.running_mean\n",
            "module.encoder_q.layer4.0.bn1.running_var -> res5.0.conv1.norm.running_var\n",
            "module.encoder_q.layer4.0.bn1.num_batches_tracked -> res5.0.conv1.norm.num_batches_tracked\n",
            "module.encoder_q.layer4.0.conv2.weight -> res5.0.conv2.weight\n",
            "module.encoder_q.layer4.0.bn2.weight -> res5.0.conv2.norm.weight\n",
            "module.encoder_q.layer4.0.bn2.bias -> res5.0.conv2.norm.bias\n",
            "module.encoder_q.layer4.0.bn2.running_mean -> res5.0.conv2.norm.running_mean\n",
            "module.encoder_q.layer4.0.bn2.running_var -> res5.0.conv2.norm.running_var\n",
            "module.encoder_q.layer4.0.bn2.num_batches_tracked -> res5.0.conv2.norm.num_batches_tracked\n",
            "module.encoder_q.layer4.0.conv3.weight -> res5.0.conv3.weight\n",
            "module.encoder_q.layer4.0.bn3.weight -> res5.0.conv3.norm.weight\n",
            "module.encoder_q.layer4.0.bn3.bias -> res5.0.conv3.norm.bias\n",
            "module.encoder_q.layer4.0.bn3.running_mean -> res5.0.conv3.norm.running_mean\n",
            "module.encoder_q.layer4.0.bn3.running_var -> res5.0.conv3.norm.running_var\n",
            "module.encoder_q.layer4.0.bn3.num_batches_tracked -> res5.0.conv3.norm.num_batches_tracked\n",
            "module.encoder_q.layer4.0.downsample.0.weight -> res5.0.shortcut.weight\n",
            "module.encoder_q.layer4.0.downsample.1.weight -> res5.0.shortcut.norm.weight\n",
            "module.encoder_q.layer4.0.downsample.1.bias -> res5.0.shortcut.norm.bias\n",
            "module.encoder_q.layer4.0.downsample.1.running_mean -> res5.0.shortcut.norm.running_mean\n",
            "module.encoder_q.layer4.0.downsample.1.running_var -> res5.0.shortcut.norm.running_var\n",
            "module.encoder_q.layer4.0.downsample.1.num_batches_tracked -> res5.0.shortcut.norm.num_batches_tracked\n",
            "module.encoder_q.layer4.1.conv1.weight -> res5.1.conv1.weight\n",
            "module.encoder_q.layer4.1.bn1.weight -> res5.1.conv1.norm.weight\n",
            "module.encoder_q.layer4.1.bn1.bias -> res5.1.conv1.norm.bias\n",
            "module.encoder_q.layer4.1.bn1.running_mean -> res5.1.conv1.norm.running_mean\n",
            "module.encoder_q.layer4.1.bn1.running_var -> res5.1.conv1.norm.running_var\n",
            "module.encoder_q.layer4.1.bn1.num_batches_tracked -> res5.1.conv1.norm.num_batches_tracked\n",
            "module.encoder_q.layer4.1.conv2.weight -> res5.1.conv2.weight\n",
            "module.encoder_q.layer4.1.bn2.weight -> res5.1.conv2.norm.weight\n",
            "module.encoder_q.layer4.1.bn2.bias -> res5.1.conv2.norm.bias\n",
            "module.encoder_q.layer4.1.bn2.running_mean -> res5.1.conv2.norm.running_mean\n",
            "module.encoder_q.layer4.1.bn2.running_var -> res5.1.conv2.norm.running_var\n",
            "module.encoder_q.layer4.1.bn2.num_batches_tracked -> res5.1.conv2.norm.num_batches_tracked\n",
            "module.encoder_q.layer4.1.conv3.weight -> res5.1.conv3.weight\n",
            "module.encoder_q.layer4.1.bn3.weight -> res5.1.conv3.norm.weight\n",
            "module.encoder_q.layer4.1.bn3.bias -> res5.1.conv3.norm.bias\n",
            "module.encoder_q.layer4.1.bn3.running_mean -> res5.1.conv3.norm.running_mean\n",
            "module.encoder_q.layer4.1.bn3.running_var -> res5.1.conv3.norm.running_var\n",
            "module.encoder_q.layer4.1.bn3.num_batches_tracked -> res5.1.conv3.norm.num_batches_tracked\n",
            "module.encoder_q.layer4.2.conv1.weight -> res5.2.conv1.weight\n",
            "module.encoder_q.layer4.2.bn1.weight -> res5.2.conv1.norm.weight\n",
            "module.encoder_q.layer4.2.bn1.bias -> res5.2.conv1.norm.bias\n",
            "module.encoder_q.layer4.2.bn1.running_mean -> res5.2.conv1.norm.running_mean\n",
            "module.encoder_q.layer4.2.bn1.running_var -> res5.2.conv1.norm.running_var\n",
            "module.encoder_q.layer4.2.bn1.num_batches_tracked -> res5.2.conv1.norm.num_batches_tracked\n",
            "module.encoder_q.layer4.2.conv2.weight -> res5.2.conv2.weight\n",
            "module.encoder_q.layer4.2.bn2.weight -> res5.2.conv2.norm.weight\n",
            "module.encoder_q.layer4.2.bn2.bias -> res5.2.conv2.norm.bias\n",
            "module.encoder_q.layer4.2.bn2.running_mean -> res5.2.conv2.norm.running_mean\n",
            "module.encoder_q.layer4.2.bn2.running_var -> res5.2.conv2.norm.running_var\n",
            "module.encoder_q.layer4.2.bn2.num_batches_tracked -> res5.2.conv2.norm.num_batches_tracked\n",
            "module.encoder_q.layer4.2.conv3.weight -> res5.2.conv3.weight\n",
            "module.encoder_q.layer4.2.bn3.weight -> res5.2.conv3.norm.weight\n",
            "module.encoder_q.layer4.2.bn3.bias -> res5.2.conv3.norm.bias\n",
            "module.encoder_q.layer4.2.bn3.running_mean -> res5.2.conv3.norm.running_mean\n",
            "module.encoder_q.layer4.2.bn3.running_var -> res5.2.conv3.norm.running_var\n",
            "module.encoder_q.layer4.2.bn3.num_batches_tracked -> res5.2.conv3.norm.num_batches_tracked\n",
            "module.encoder_q.fc.weight -> stem.fc.weight\n",
            "module.encoder_q.fc.bias -> stem.fc.bias\n"
          ]
        }
      ]
    },
    {
      "cell_type": "markdown",
      "source": [
        "3.Put dataset under \"./datasets\" directory"
      ],
      "metadata": {
        "id": "dmEGczmIXXqL"
      }
    },
    {
      "cell_type": "code",
      "source": [
        "!export DETECTRON2_DATASETS='./datasets/da'"
      ],
      "metadata": {
        "id": "qARmQ01sXvLS"
      },
      "execution_count": 40,
      "outputs": []
    },
    {
      "cell_type": "markdown",
      "source": [
        "4.Run training:"
      ],
      "metadata": {
        "id": "pKyz-DjJYip2"
      }
    },
    {
      "cell_type": "code",
      "source": [
        "!python train_net.py --config-file configs/pascal_voc_R_50_C4_24k_moco.yaml MODEL.WEIGHTS ./output.pkl"
      ],
      "metadata": {
        "id": "TxSmGgedYf8u"
      },
      "execution_count": null,
      "outputs": []
    }
  ],
  "metadata": {
    "kernelspec": {
      "display_name": "Python 3.9.12 ('base')",
      "language": "python",
      "name": "python3"
    },
    "language_info": {
      "codemirror_mode": {
        "name": "ipython",
        "version": 3
      },
      "file_extension": ".py",
      "mimetype": "text/x-python",
      "name": "python",
      "nbconvert_exporter": "python",
      "pygments_lexer": "ipython3",
      "version": "3.9.12"
    },
    "orig_nbformat": 4,
    "vscode": {
      "interpreter": {
        "hash": "cc9daa352394ac6fd6b224fdae94757fb224b4aab069bc0189ad8c000c678227"
      }
    },
    "colab": {
      "name": "MoCo.ipynb",
      "provenance": []
    },
    "accelerator": "GPU",
    "gpuClass": "standard"
  },
  "nbformat": 4,
  "nbformat_minor": 0
}