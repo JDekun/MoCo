{
  "cells": [
    {
      "cell_type": "markdown",
      "metadata": {
        "id": "ekfmWSl4UbbQ"
      },
      "source": [
        "[![Open In Colab](https://colab.research.google.com/assets/colab-badge.svg)](https://colab.research.google.com/github/JDekun/MoCo/blob/master/MoCo.ipynb?authuser=2) [![Open In Kaggle](https://kaggle.com/static/images/open-in-kaggle.svg)](https://www.kaggle.com/code/mydekun/MoCo) [![Open In Github](https://badgen.net/badge/icon/Open%20MoCo?icon=github&label)](https://github.com/JDekun/MoCo/blob/master/MoCo.ipynb)"
      ]
    },
    {
      "cell_type": "code",
      "execution_count": 1,
      "metadata": {
        "cellView": "form",
        "colab": {
          "base_uri": "https://localhost:8080/"
        },
        "id": "Rqvvx2QlUbbb",
        "outputId": "5dc7442e-0ed1-4fdc-ac2b-e0bc37d145e0"
      },
      "outputs": [
        {
          "output_type": "stream",
          "name": "stdout",
          "text": [
            "Warning: Your Kaggle API key is readable by other users on this system! To fix this, you can run 'chmod 600 /content/Kaggle/kaggle.json'\n",
            "Downloading pascal-voc-2007-and-2012.zip to pascal-voc-2007-and-2012\n",
            "100% 2.63G/2.64G [00:29<00:00, 129MB/s]\n",
            "100% 2.64G/2.64G [00:29<00:00, 97.0MB/s]\n"
          ]
        }
      ],
      "source": [
        "#@title [Colab] 构建Kaggle环境 && 下载数据集\n",
        "\n",
        "'''\n",
        "自动化代码，当值 colab 断路\n",
        "function ConnectButton(){\n",
        "    console.log(\"Connect pushed\"); \n",
        "    document.querySelector(\"#top-toolbar > colab-connect-button\").shadowRoot.querySelector(\"#connect\").click() \n",
        "}\n",
        "setInterval(ConnectButton,60000);\n",
        "'''\n",
        "# clearInterval()\n",
        "\n",
        "######### 数据集名字 #########\n",
        "datasets = [\"vijayabhaskar96/pascal-voc-2007-and-2012\"]  #@param {type:\"raw\"}\n",
        "import os\n",
        "\n",
        "# 构建 working input 文件夹和文件\n",
        "if not os.path.exists('/content/working'):\n",
        "  !mkdir /content/working\n",
        "if not os.path.exists('/content/input'):\n",
        "  !mkdir /content/input\n",
        "\n",
        "# 导入Kaggle API\n",
        "os.chdir('/content')\n",
        "!git clone https://github.com/JDekun/Kaggle.git > /dev/null 2>&1\n",
        "os.environ['KAGGLE_CONFIG_DIR'] = '/content/Kaggle' #注意kaggle文件夹包含json文件 \n",
        "\n",
        "# 下载数据集\n",
        "os.chdir('/content/input')\n",
        "len_mydekun = len(datasets)\n",
        "if len_mydekun != 0:\n",
        "  for i in range(len_mydekun):\n",
        "    # 下载 kaggle 数据集\n",
        "    temp = datasets[i]\n",
        "    name, dataset = temp.split('/')\n",
        "    dirlist = os.listdir('/content/input')\n",
        "\n",
        "    if (dataset in dirlist):\n",
        "      print(\"您已经下载过'%s'数据集\" % dataset)\n",
        "    else:\n",
        "      zip = dataset + '.zip'\n",
        "      !kaggle datasets download -d $temp -p $dataset\n",
        "      # 解压数据集并删除压缩包\n",
        "      !unzip $dataset/$zip -d $dataset > /dev/null 2>&1\n",
        "      !rm -f $dataset/$zip"
      ]
    },
    {
      "cell_type": "code",
      "execution_count": 2,
      "metadata": {
        "cellView": "form",
        "colab": {
          "base_uri": "https://localhost:8080/"
        },
        "id": "2m4frpdEUbbe",
        "outputId": "210ec5c1-f908-4e91-964b-f7e5c3d4e6e9"
      },
      "outputs": [
        {
          "output_type": "stream",
          "name": "stdout",
          "text": [
            "Cloning into 'MoCo'...\n",
            "remote: Enumerating objects: 67, done.\u001b[K\n",
            "remote: Counting objects: 100% (29/29), done.\u001b[K\n",
            "remote: Compressing objects: 100% (19/19), done.\u001b[K\n",
            "remote: Total 67 (delta 14), reused 22 (delta 8), pack-reused 38\u001b[K\n",
            "Unpacking objects: 100% (67/67), done.\n"
          ]
        }
      ],
      "source": [
        "#@title [Kaggle] 克隆github项目\n",
        "import os\n",
        "######### GitHub库 #########\n",
        "github = \"https://github.com/JDekun/MoCo.git\"  #@param {type:\"string\"}\n",
        "## 工作路径\n",
        "working = github.rsplit('/',1)[-1].rsplit('.',1)[0]\n",
        "\n",
        "try:\n",
        "  os.chdir(\"/kaggle/working/\")\n",
        "except:\n",
        "  os.chdir(\"/content/working/\")\n",
        "\n",
        "!git clone $github   # 克隆 github 项目\n",
        "\n",
        "os.chdir(working)"
      ]
    },
    {
      "cell_type": "code",
      "execution_count": null,
      "metadata": {
        "cellView": "form",
        "id": "ugjcNpCtUbbf"
      },
      "outputs": [],
      "source": [
        "#@title [TensorBoard] 在 Colab 中启动TensorBoard\n",
        "path = \"\"  #@param {type: \"string\"}\n",
        "len_tbp = len(path)\n",
        "if len_tbp != 0:\n",
        "  %reload_ext tensorboard\n",
        "  %tensorboard --logdir $path"
      ]
    },
    {
      "cell_type": "code",
      "execution_count": 3,
      "metadata": {
        "id": "lB9jwGTyWC7n"
      },
      "outputs": [],
      "source": [
        "os.chdir('./detection')"
      ]
    },
    {
      "cell_type": "markdown",
      "metadata": {
        "id": "DWb8rnJkW3aM"
      },
      "source": [
        "1.Install detectron2."
      ]
    },
    {
      "cell_type": "code",
      "execution_count": 4,
      "metadata": {
        "colab": {
          "base_uri": "https://localhost:8080/"
        },
        "id": "Dn4pH9AGVCsB",
        "outputId": "ed0c7269-81a5-408c-80c5-94e4d81f45d3"
      },
      "outputs": [
        {
          "output_type": "stream",
          "name": "stdout",
          "text": [
            "  Running command git clone -q https://github.com/facebookresearch/detectron2.git /tmp/pip-req-build-yr9qtvpc\n",
            "\u001b[31mERROR: pip's dependency resolver does not currently take into account all the packages that are installed. This behaviour is the source of the following dependency conflicts.\n",
            "flask 1.1.4 requires click<8.0,>=5.1, but you have click 8.1.3 which is incompatible.\u001b[0m\n"
          ]
        }
      ],
      "source": [
        "!python -m pip install pyyaml==5.1 > /dev/null\n",
        "# Detectron2 has not released pre-built binaries for the latest pytorch (https://github.com/facebookresearch/detectron2/issues/4053)\n",
        "# so we install from source instead. This takes a few minutes.\n",
        "!python -m pip install 'git+https://github.com/facebookresearch/detectron2.git' > /dev/null"
      ]
    },
    {
      "cell_type": "markdown",
      "metadata": {
        "id": "N4hV8ZpcXWTx"
      },
      "source": [
        "2.Convert a pre-trained MoCo model to detectron2's format:"
      ]
    },
    {
      "cell_type": "code",
      "execution_count": null,
      "metadata": {
        "id": "tIlUi-WzV0CJ"
      },
      "outputs": [],
      "source": [
        "!wget https://dl.fbaipublicfiles.com/moco/moco_checkpoints/moco_v1_200ep/moco_v1_200ep_pretrain.pth.tar > /dev/null\n",
        "!python3 convert-pretrain-to-detectron2.py moco_v1_200ep_pretrain.pth.tar output.pkl > /dev/null"
      ]
    },
    {
      "cell_type": "markdown",
      "metadata": {
        "id": "dmEGczmIXXqL"
      },
      "source": [
        "3.Put dataset under \"./datasets\" directory"
      ]
    },
    {
      "cell_type": "code",
      "execution_count": 10,
      "metadata": {
        "id": "qARmQ01sXvLS"
      },
      "outputs": [],
      "source": [
        "os.environ['DETECTRON2_DATASETS']='../../../input/pascal-voc-2007-and-2012'"
      ]
    },
    {
      "cell_type": "markdown",
      "metadata": {
        "id": "pKyz-DjJYip2"
      },
      "source": [
        "4.Run training:"
      ]
    },
    {
      "cell_type": "code",
      "execution_count": null,
      "metadata": {
        "id": "TxSmGgedYf8u"
      },
      "outputs": [],
      "source": [
        "!python train_net.py --config-file configs/pascal_voc_R_50_C4_24k_moco.yaml MODEL.WEIGHTS ./output.pkl"
      ]
    }
  ],
  "metadata": {
    "accelerator": "GPU",
    "colab": {
      "name": "MoCo.ipynb",
      "provenance": []
    },
    "gpuClass": "standard",
    "kernelspec": {
      "display_name": "Python 3.9.12 ('base')",
      "language": "python",
      "name": "python3"
    },
    "language_info": {
      "codemirror_mode": {
        "name": "ipython",
        "version": 3
      },
      "file_extension": ".py",
      "mimetype": "text/x-python",
      "name": "python",
      "nbconvert_exporter": "python",
      "pygments_lexer": "ipython3",
      "version": "3.9.12"
    },
    "orig_nbformat": 4,
    "vscode": {
      "interpreter": {
        "hash": "cc9daa352394ac6fd6b224fdae94757fb224b4aab069bc0189ad8c000c678227"
      }
    }
  },
  "nbformat": 4,
  "nbformat_minor": 0
}